{
 "cells": [
  {
   "cell_type": "code",
   "execution_count": 1,
   "id": "4f685d32",
   "metadata": {},
   "outputs": [
    {
     "data": {
      "text/html": [
       "<div>\n",
       "<style scoped>\n",
       "    .dataframe tbody tr th:only-of-type {\n",
       "        vertical-align: middle;\n",
       "    }\n",
       "\n",
       "    .dataframe tbody tr th {\n",
       "        vertical-align: top;\n",
       "    }\n",
       "\n",
       "    .dataframe thead th {\n",
       "        text-align: right;\n",
       "    }\n",
       "</style>\n",
       "<table border=\"1\" class=\"dataframe\">\n",
       "  <thead>\n",
       "    <tr style=\"text-align: right;\">\n",
       "      <th></th>\n",
       "      <th>symptom_1</th>\n",
       "      <th>symptom_2</th>\n",
       "      <th>symptom_3</th>\n",
       "      <th>symptom_4</th>\n",
       "      <th>diagnose</th>\n",
       "    </tr>\n",
       "  </thead>\n",
       "  <tbody>\n",
       "    <tr>\n",
       "      <th>0</th>\n",
       "      <td>đau họng</td>\n",
       "      <td>khó nuốt</td>\n",
       "      <td>ho kéo dài</td>\n",
       "      <td>khạc dàm dai dẳng</td>\n",
       "      <td>viêm họng</td>\n",
       "    </tr>\n",
       "    <tr>\n",
       "      <th>1</th>\n",
       "      <td>đau bụng</td>\n",
       "      <td>tiêu chảy</td>\n",
       "      <td>buồn nôn</td>\n",
       "      <td>đau đầu</td>\n",
       "      <td>viêm dạ dày</td>\n",
       "    </tr>\n",
       "    <tr>\n",
       "      <th>2</th>\n",
       "      <td>đau lưng</td>\n",
       "      <td>đau cơ</td>\n",
       "      <td>đau đầu</td>\n",
       "      <td>buồn nôn</td>\n",
       "      <td>căng thẳng cơ</td>\n",
       "    </tr>\n",
       "    <tr>\n",
       "      <th>3</th>\n",
       "      <td>sổ mũi</td>\n",
       "      <td>đau mũi</td>\n",
       "      <td>ho</td>\n",
       "      <td>mệt mỏi</td>\n",
       "      <td>cảm lạnh</td>\n",
       "    </tr>\n",
       "    <tr>\n",
       "      <th>4</th>\n",
       "      <td>đau rụt bụng dưới</td>\n",
       "      <td>tiểu tiện đau</td>\n",
       "      <td>tiểu tiện buốt</td>\n",
       "      <td>tiểu tiện nhiều</td>\n",
       "      <td>viêm bàng quang</td>\n",
       "    </tr>\n",
       "  </tbody>\n",
       "</table>\n",
       "</div>"
      ],
      "text/plain": [
       "           symptom_1      symptom_2         symptom_3          symptom_4  \\\n",
       "0           đau họng       khó nuốt        ho kéo dài  khạc dàm dai dẳng   \n",
       "1           đau bụng      tiêu chảy          buồn nôn            đau đầu   \n",
       "2           đau lưng         đau cơ           đau đầu           buồn nôn   \n",
       "3             sổ mũi        đau mũi                ho            mệt mỏi   \n",
       "4  đau rụt bụng dưới  tiểu tiện đau   tiểu tiện buốt     tiểu tiện nhiều   \n",
       "\n",
       "          diagnose  \n",
       "0        viêm họng  \n",
       "1      viêm dạ dày  \n",
       "2    căng thẳng cơ  \n",
       "3         cảm lạnh  \n",
       "4  viêm bàng quang  "
      ]
     },
     "execution_count": 1,
     "metadata": {},
     "output_type": "execute_result"
    }
   ],
   "source": [
    "import numpy as np # đại số tuyến tính\n",
    "import pandas as pd # xử lý dữ liệu, I/O tệp CSV (ví dụ: pd.read_csv)\n",
    "import matplotlib.pyplot as plt # cho mục đích trực quan hóa dữ liệu\n",
    "import seaborn as sns # để trực quan hóa dữ liệu thống kê\n",
    "%matplotlib inline\n",
    "df = pd.read_excel(\"data\\\\dataNCKH.xlsx\")\n",
    "df.head()"
   ]
  },
  {
   "cell_type": "code",
   "execution_count": 2,
   "id": "7c727a12",
   "metadata": {},
   "outputs": [
    {
     "data": {
      "text/plain": [
       "Index(['symptom_1', 'symptom_2', 'symptom_3', 'symptom_4', 'diagnose'], dtype='object')"
      ]
     },
     "execution_count": 2,
     "metadata": {},
     "output_type": "execute_result"
    }
   ],
   "source": [
    "col_names = ['symptom_1', 'symptom_2', 'symptom_3', 'symptom_4','diagnose']\n",
    "\n",
    "df.columns = col_names\n",
    "\n",
    "df.columns"
   ]
  },
  {
   "cell_type": "code",
   "execution_count": 3,
   "id": "f707be03",
   "metadata": {},
   "outputs": [
    {
     "data": {
      "text/plain": [
       "symptom_1    0\n",
       "symptom_2    0\n",
       "symptom_3    0\n",
       "symptom_4    0\n",
       "diagnose     0\n",
       "dtype: int64"
      ]
     },
     "execution_count": 3,
     "metadata": {},
     "output_type": "execute_result"
    }
   ],
   "source": [
    "df.isnull().sum()"
   ]
  },
  {
   "cell_type": "code",
   "execution_count": 4,
   "id": "f25accd1",
   "metadata": {},
   "outputs": [
    {
     "name": "stdout",
     "output_type": "stream",
     "text": [
      "Có 5 biến phân loại\n",
      "\n",
      "Các biến phân loại là :\n",
      "\n",
      " ['symptom_1', 'symptom_2', 'symptom_3', 'symptom_4', 'diagnose']\n"
     ]
    }
   ],
   "source": [
    "categorical = [var for var in df.columns if df[var].dtype=='O']\n",
    "\n",
    "print('Có {} biến phân loại\\n'.format(len(categorical)))\n",
    "\n",
    "print('Các biến phân loại là :\\n\\n', categorical)"
   ]
  },
  {
   "cell_type": "code",
   "execution_count": 5,
   "id": "3ca1cef6",
   "metadata": {},
   "outputs": [
    {
     "data": {
      "text/plain": [
       "symptom_1    0\n",
       "symptom_2    0\n",
       "symptom_3    0\n",
       "symptom_4    0\n",
       "diagnose     0\n",
       "dtype: int64"
      ]
     },
     "execution_count": 5,
     "metadata": {},
     "output_type": "execute_result"
    }
   ],
   "source": [
    "df[categorical].isnull().sum()"
   ]
  },
  {
   "cell_type": "code",
   "execution_count": 6,
   "id": "b71d9993",
   "metadata": {},
   "outputs": [],
   "source": [
    "X = df.drop(['diagnose'], axis=1)\n",
    "y = df['diagnose']"
   ]
  },
  {
   "cell_type": "code",
   "execution_count": 7,
   "id": "3f050fb9",
   "metadata": {},
   "outputs": [],
   "source": [
    "from sklearn.model_selection import train_test_split\n",
    "\n",
    "X_train, X_test, y_train, y_test = train_test_split(X, y, test_size = 0.3, random_state = 0)"
   ]
  },
  {
   "cell_type": "code",
   "execution_count": 8,
   "id": "ab64ae1e",
   "metadata": {},
   "outputs": [
    {
     "name": "stderr",
     "output_type": "stream",
     "text": [
      "\n",
      "[notice] A new release of pip is available: 23.2.1 -> 24.2\n",
      "[notice] To update, run: python.exe -m pip install --upgrade pip\n"
     ]
    },
    {
     "name": "stdout",
     "output_type": "stream",
     "text": [
      "Requirement already satisfied: category_encoders in c:\\users\\ducva\\appdata\\local\\programs\\python\\python311\\lib\\site-packages (2.6.3)\n",
      "Requirement already satisfied: numpy>=1.14.0 in c:\\users\\ducva\\appdata\\local\\programs\\python\\python311\\lib\\site-packages (from category_encoders) (1.26.0)\n",
      "Requirement already satisfied: scikit-learn>=0.20.0 in c:\\users\\ducva\\appdata\\local\\programs\\python\\python311\\lib\\site-packages (from category_encoders) (1.3.0)\n",
      "Requirement already satisfied: scipy>=1.0.0 in c:\\users\\ducva\\appdata\\local\\programs\\python\\python311\\lib\\site-packages (from category_encoders) (1.11.2)\n",
      "Requirement already satisfied: statsmodels>=0.9.0 in c:\\users\\ducva\\appdata\\local\\programs\\python\\python311\\lib\\site-packages (from category_encoders) (0.14.1)\n",
      "Requirement already satisfied: pandas>=1.0.5 in c:\\users\\ducva\\appdata\\local\\programs\\python\\python311\\lib\\site-packages (from category_encoders) (2.1.4)\n",
      "Requirement already satisfied: patsy>=0.5.1 in c:\\users\\ducva\\appdata\\local\\programs\\python\\python311\\lib\\site-packages (from category_encoders) (0.5.6)\n",
      "Requirement already satisfied: python-dateutil>=2.8.2 in c:\\users\\ducva\\appdata\\local\\programs\\python\\python311\\lib\\site-packages (from pandas>=1.0.5->category_encoders) (2.8.2)\n",
      "Requirement already satisfied: pytz>=2020.1 in c:\\users\\ducva\\appdata\\local\\programs\\python\\python311\\lib\\site-packages (from pandas>=1.0.5->category_encoders) (2023.3.post1)\n",
      "Requirement already satisfied: tzdata>=2022.1 in c:\\users\\ducva\\appdata\\local\\programs\\python\\python311\\lib\\site-packages (from pandas>=1.0.5->category_encoders) (2023.3)\n",
      "Requirement already satisfied: six in c:\\users\\ducva\\appdata\\local\\programs\\python\\python311\\lib\\site-packages (from patsy>=0.5.1->category_encoders) (1.16.0)\n",
      "Requirement already satisfied: joblib>=1.1.1 in c:\\users\\ducva\\appdata\\local\\programs\\python\\python311\\lib\\site-packages (from scikit-learn>=0.20.0->category_encoders) (1.3.2)\n",
      "Requirement already satisfied: threadpoolctl>=2.0.0 in c:\\users\\ducva\\appdata\\local\\programs\\python\\python311\\lib\\site-packages (from scikit-learn>=0.20.0->category_encoders) (3.2.0)\n",
      "Requirement already satisfied: packaging>=21.3 in c:\\users\\ducva\\appdata\\local\\programs\\python\\python311\\lib\\site-packages (from statsmodels>=0.9.0->category_encoders) (23.2)\n"
     ]
    }
   ],
   "source": [
    "!pip install category_encoders\n",
    "import category_encoders as ce"
   ]
  },
  {
   "cell_type": "code",
   "execution_count": 9,
   "id": "c80af7c2",
   "metadata": {},
   "outputs": [],
   "source": [
    "# Xác định các biến phân loại\n",
    "categorical = ['symptom_1', 'symptom_2', 'symptom_3', 'symptom_4']\n",
    "\n",
    "# Tạo encoder\n",
    "encoder = ce.OneHotEncoder(cols=categorical)\n",
    "\n",
    "# Thực hiện one-hot encoding trên tập huấn luyện\n",
    "X_train = encoder.fit_transform(X_train)\n",
    "\n",
    "# Áp dụng biến đổi đã học từ tập huấn luyện lên tập kiểm tra\n",
    "X_test = encoder.transform(X_test)"
   ]
  },
  {
   "cell_type": "code",
   "execution_count": 10,
   "id": "5dec93db",
   "metadata": {},
   "outputs": [
    {
     "data": {
      "text/html": [
       "<style>#sk-container-id-1 {color: black;}#sk-container-id-1 pre{padding: 0;}#sk-container-id-1 div.sk-toggleable {background-color: white;}#sk-container-id-1 label.sk-toggleable__label {cursor: pointer;display: block;width: 100%;margin-bottom: 0;padding: 0.3em;box-sizing: border-box;text-align: center;}#sk-container-id-1 label.sk-toggleable__label-arrow:before {content: \"▸\";float: left;margin-right: 0.25em;color: #696969;}#sk-container-id-1 label.sk-toggleable__label-arrow:hover:before {color: black;}#sk-container-id-1 div.sk-estimator:hover label.sk-toggleable__label-arrow:before {color: black;}#sk-container-id-1 div.sk-toggleable__content {max-height: 0;max-width: 0;overflow: hidden;text-align: left;background-color: #f0f8ff;}#sk-container-id-1 div.sk-toggleable__content pre {margin: 0.2em;color: black;border-radius: 0.25em;background-color: #f0f8ff;}#sk-container-id-1 input.sk-toggleable__control:checked~div.sk-toggleable__content {max-height: 200px;max-width: 100%;overflow: auto;}#sk-container-id-1 input.sk-toggleable__control:checked~label.sk-toggleable__label-arrow:before {content: \"▾\";}#sk-container-id-1 div.sk-estimator input.sk-toggleable__control:checked~label.sk-toggleable__label {background-color: #d4ebff;}#sk-container-id-1 div.sk-label input.sk-toggleable__control:checked~label.sk-toggleable__label {background-color: #d4ebff;}#sk-container-id-1 input.sk-hidden--visually {border: 0;clip: rect(1px 1px 1px 1px);clip: rect(1px, 1px, 1px, 1px);height: 1px;margin: -1px;overflow: hidden;padding: 0;position: absolute;width: 1px;}#sk-container-id-1 div.sk-estimator {font-family: monospace;background-color: #f0f8ff;border: 1px dotted black;border-radius: 0.25em;box-sizing: border-box;margin-bottom: 0.5em;}#sk-container-id-1 div.sk-estimator:hover {background-color: #d4ebff;}#sk-container-id-1 div.sk-parallel-item::after {content: \"\";width: 100%;border-bottom: 1px solid gray;flex-grow: 1;}#sk-container-id-1 div.sk-label:hover label.sk-toggleable__label {background-color: #d4ebff;}#sk-container-id-1 div.sk-serial::before {content: \"\";position: absolute;border-left: 1px solid gray;box-sizing: border-box;top: 0;bottom: 0;left: 50%;z-index: 0;}#sk-container-id-1 div.sk-serial {display: flex;flex-direction: column;align-items: center;background-color: white;padding-right: 0.2em;padding-left: 0.2em;position: relative;}#sk-container-id-1 div.sk-item {position: relative;z-index: 1;}#sk-container-id-1 div.sk-parallel {display: flex;align-items: stretch;justify-content: center;background-color: white;position: relative;}#sk-container-id-1 div.sk-item::before, #sk-container-id-1 div.sk-parallel-item::before {content: \"\";position: absolute;border-left: 1px solid gray;box-sizing: border-box;top: 0;bottom: 0;left: 50%;z-index: -1;}#sk-container-id-1 div.sk-parallel-item {display: flex;flex-direction: column;z-index: 1;position: relative;background-color: white;}#sk-container-id-1 div.sk-parallel-item:first-child::after {align-self: flex-end;width: 50%;}#sk-container-id-1 div.sk-parallel-item:last-child::after {align-self: flex-start;width: 50%;}#sk-container-id-1 div.sk-parallel-item:only-child::after {width: 0;}#sk-container-id-1 div.sk-dashed-wrapped {border: 1px dashed gray;margin: 0 0.4em 0.5em 0.4em;box-sizing: border-box;padding-bottom: 0.4em;background-color: white;}#sk-container-id-1 div.sk-label label {font-family: monospace;font-weight: bold;display: inline-block;line-height: 1.2em;}#sk-container-id-1 div.sk-label-container {text-align: center;}#sk-container-id-1 div.sk-container {/* jupyter's `normalize.less` sets `[hidden] { display: none; }` but bootstrap.min.css set `[hidden] { display: none !important; }` so we also need the `!important` here to be able to override the default hidden behavior on the sphinx rendered scikit-learn.org. See: https://github.com/scikit-learn/scikit-learn/issues/21755 */display: inline-block !important;position: relative;}#sk-container-id-1 div.sk-text-repr-fallback {display: none;}</style><div id=\"sk-container-id-1\" class=\"sk-top-container\"><div class=\"sk-text-repr-fallback\"><pre>GaussianNB()</pre><b>In a Jupyter environment, please rerun this cell to show the HTML representation or trust the notebook. <br />On GitHub, the HTML representation is unable to render, please try loading this page with nbviewer.org.</b></div><div class=\"sk-container\" hidden><div class=\"sk-item\"><div class=\"sk-estimator sk-toggleable\"><input class=\"sk-toggleable__control sk-hidden--visually\" id=\"sk-estimator-id-1\" type=\"checkbox\" checked><label for=\"sk-estimator-id-1\" class=\"sk-toggleable__label sk-toggleable__label-arrow\">GaussianNB</label><div class=\"sk-toggleable__content\"><pre>GaussianNB()</pre></div></div></div></div></div>"
      ],
      "text/plain": [
       "GaussianNB()"
      ]
     },
     "execution_count": 10,
     "metadata": {},
     "output_type": "execute_result"
    }
   ],
   "source": [
    "from sklearn.naive_bayes import GaussianNB\n",
    "\n",
    "# instantiate the model\n",
    "gnb = GaussianNB()\n",
    "# fit the model\n",
    "gnb.fit(X_train, y_train)"
   ]
  },
  {
   "cell_type": "code",
   "execution_count": 11,
   "id": "8d96a32f",
   "metadata": {},
   "outputs": [
    {
     "data": {
      "text/plain": [
       "array(['cảm lạnh', ' covid 19', 'nhiễm khuẩn dạ dày', ' covid 19',\n",
       "       ' covid 19', 'đau đầu thống kinh', ' covid 19', ' sốt xuất huyết',\n",
       "       ' sốt xuất huyết', 'đau tim', ' sốt xuất huyết',\n",
       "       'đau đầu căng thẳng', ' covid 19', ' covid 19', 'viêm phổi',\n",
       "       ' covid 19', ' covid 19', ' sốt xuất huyết', ' covid 19',\n",
       "       'căng thẳng cơ', 'huyết áp cao', ' covid 19', 'đau đầu thống kinh',\n",
       "       ' covid 19', 'viêm khớp', ' covid 19', ' sốt xuất huyết',\n",
       "       ' sốt xuất huyết', 'viêm mũi họng', 'căng thẳng', 'viêm dạ dày',\n",
       "       'viêm dạ dày', 'sốt xuất huyết', ' covid 19', 'viêm amidan',\n",
       "       'căng thẳng', ' covid 19', 'đau đầu thống kinh', ' sốt xuất huyết',\n",
       "       ' covid 19', 'đau nửa đầu', ' covid 19', ' sốt xuất huyết',\n",
       "       'viêm mắt', 'đau đầu căng thẳng', ' covid 19', ' covid 19',\n",
       "       'viêm khớp', ' covid 19', 'cảm lạnh', ' covid 19', 'căng thẳng cơ',\n",
       "       'viêm tai giữa', ' covid 19', ' covid 19', 'cảm lạnh',\n",
       "       'đau đầu căng thẳng', 'viêm dạ dày', 'đau đầu thống kinh',\n",
       "       ' covid 19', ' covid 19', ' sốt xuất huyết', 'say nắng',\n",
       "       ' covid 19', 'viêm khớp', 'viêm mắt', ' sốt xuất huyết',\n",
       "       ' sốt xuất huyết', 'đau đầu thống kinh', ' covid 19', ' covid 19',\n",
       "       ' covid 19', 'đau nửa đầu', ' covid 19', ' covid 19', ' covid 19',\n",
       "       ' covid 19', ' covid 19', ' sốt xuất huyết', ' covid 19',\n",
       "       ' covid 19', ' sốt xuất huyết', 'cảm lạnh', ' covid 19',\n",
       "       ' sốt xuất huyết', ' sốt xuất huyết', 'viêm dạ dày', ' covid 19',\n",
       "       'viêm họng', 'viêm khớp ', 'viêm dạ dày', ' covid 19',\n",
       "       ' sốt xuất huyết', 'viêm họng', ' sốt xuất huyết',\n",
       "       ' sốt xuất huyết', ' sốt xuất huyết', 'cảm lạnh',\n",
       "       ' sốt xuất huyết', ' sốt xuất huyết', ' sốt xuất huyết',\n",
       "       ' covid 19', ' covid 19', ' covid 19', 'viêm khớp', ' covid 19',\n",
       "       ' covid 19', 'đau tim', ' covid 19', 'viêm khớp ',\n",
       "       ' sốt xuất huyết', 'viêm khớp', 'viêm khớp', 'nhiễm khuẩn dạ dày',\n",
       "       ' covid 19', ' covid 19', 'viêm dạ dày', ' covid 19', ' covid 19',\n",
       "       ' sốt xuất huyết', ' sốt xuất huyết', 'nhiễm khuẩn dạ dày',\n",
       "       ' sốt xuất huyết', ' covid 19', 'nhiễm khuẩn dạ dày', ' covid 19',\n",
       "       'đau đầu căng thẳng', ' covid 19', 'đau nửa đầu', ' covid 19',\n",
       "       ' covid 19', ' covid 19', ' covid 19', ' sốt xuất huyết',\n",
       "       'viêm mắt', 'viêm dạ dày', 'căng thẳng cơ', 'đau đầu căng thẳng',\n",
       "       'viêm bàng quang', 'viêm dạ dày', 'đau đầu thống kinh',\n",
       "       'viêm họng', ' sốt xuất huyết', ' covid 19', ' sốt xuất huyết',\n",
       "       'viêm khớp ', 'cảm lạnh', ' căng thẳng cơ ', 'viêm phổi', 'dị ứng',\n",
       "       ' covid 19', 'nhiễm khuẩn dạ dày', ' sốt xuất huyết', 'viêm mắt',\n",
       "       'viêm mắt', ' covid 19', ' covid 19', ' covid 19', ' covid 19',\n",
       "       ' sốt xuất huyết', ' sốt xuất huyết', ' sốt xuất huyết'],\n",
       "      dtype='<U22')"
      ]
     },
     "execution_count": 11,
     "metadata": {},
     "output_type": "execute_result"
    }
   ],
   "source": [
    "y_pred = gnb.predict(X_test)\n",
    "\n",
    "y_pred"
   ]
  },
  {
   "cell_type": "code",
   "execution_count": 12,
   "id": "2a39999e",
   "metadata": {},
   "outputs": [
    {
     "name": "stdout",
     "output_type": "stream",
     "text": [
      "Độ chính xác của mô hình: 96.9136 %\n"
     ]
    }
   ],
   "source": [
    "from sklearn.metrics import accuracy_score\n",
    "\n",
    "print('Độ chính xác của mô hình: {0:0.4f} %'. format(accuracy_score(y_test, y_pred)*100))"
   ]
  },
  {
   "cell_type": "code",
   "execution_count": 13,
   "id": "1c4d4701",
   "metadata": {},
   "outputs": [
    {
     "name": "stdout",
     "output_type": "stream",
     "text": [
      "Điểm training: 97.8667 %\n",
      "Điểm test: 96.9136 %\n"
     ]
    }
   ],
   "source": [
    "print('Điểm training: {:.4f} %'.format(gnb.score(X_train, y_train)*100))\n",
    "\n",
    "print('Điểm test: {:.4f} %'.format(gnb.score(X_test, y_test)*100))"
   ]
  },
  {
   "cell_type": "code",
   "execution_count": 14,
   "id": "50ea96df",
   "metadata": {},
   "outputs": [
    {
     "name": "stdout",
     "output_type": "stream",
     "text": [
      "Kết quả dự đoán:  ['cảm lạnh']\n"
     ]
    }
   ],
   "source": [
    "# # Thêm dòng mới vào DataFrame\n",
    "new_data = {\n",
    "    'symptom_1':['nhức mắt'], \n",
    "    'symptom_2':['đau đầu'], \n",
    "    'symptom_3':['sưng mí mắt'], \n",
    "    'symptom_4':['say nắng'],\n",
    "}\n",
    "new_df = pd.DataFrame(new_data)\n",
    "\n",
    "# Áp dụng encoder đã học từ tập huấn luyện\n",
    "new_df_encoded = encoder.transform(new_df)\n",
    "\n",
    "# Dự đoán bằng mô hình đã huấn luyện\n",
    "new_prediction = gnb.predict(new_df_encoded)\n",
    "\n",
    "# In kết quả dự đoán\n",
    "print(\"Kết quả dự đoán: \", new_prediction)"
   ]
  },
  {
   "cell_type": "code",
   "execution_count": 15,
   "id": "ddd10a95",
   "metadata": {},
   "outputs": [
    {
     "name": "stdout",
     "output_type": "stream",
     "text": [
      "Độ chính xác của Decision Tree: 96.2963 %\n",
      "Báo cáo phân loại của Decision Tree:\n",
      "                     precision    recall  f1-score   support\n",
      "\n",
      "          covid 19       1.00      0.93      0.97        61\n",
      "    căng thẳng cơ        0.00      0.00      0.00         0\n",
      "    sốt xuất huyết       0.87      1.00      0.93        33\n",
      "        căng thẳng       1.00      1.00      1.00         2\n",
      "     căng thẳng cơ       1.00      0.75      0.86         4\n",
      "          cảm lạnh       1.00      1.00      1.00         6\n",
      "            dị ứng       1.00      1.00      1.00         1\n",
      "      huyết áp cao       1.00      1.00      1.00         1\n",
      "nhiễm khuẩn dạ dày       1.00      1.00      1.00         5\n",
      "          say nắng       1.00      1.00      1.00         1\n",
      "          suy thận       0.00      0.00      0.00         1\n",
      "    sốt xuất huyết       1.00      1.00      1.00         1\n",
      "       viêm amidan       1.00      1.00      1.00         1\n",
      "   viêm bàng quang       1.00      1.00      1.00         1\n",
      "       viêm dạ dày       1.00      1.00      1.00         8\n",
      "         viêm họng       1.00      1.00      1.00         3\n",
      "         viêm khớp       1.00      1.00      1.00         9\n",
      "     viêm mũi họng       1.00      1.00      1.00         1\n",
      "          viêm mắt       1.00      1.00      1.00         4\n",
      "         viêm phổi       1.00      1.00      1.00         2\n",
      "     viêm tai giữa       1.00      1.00      1.00         1\n",
      "       đau nửa đầu       1.00      1.00      1.00         3\n",
      "           đau tim       1.00      1.00      1.00         2\n",
      "đau đầu căng thẳng       1.00      1.00      1.00         5\n",
      "đau đầu thống kinh       1.00      1.00      1.00         6\n",
      "\n",
      "          accuracy                           0.96       162\n",
      "         macro avg       0.91      0.91      0.91       162\n",
      "      weighted avg       0.97      0.96      0.96       162\n",
      "\n",
      "Ma trận nhầm lẫn của Decision Tree:\n",
      " [[57  0  4  0  0  0  0  0  0  0  0  0  0  0  0  0  0  0  0  0  0  0  0  0\n",
      "   0]\n",
      " [ 0  0  0  0  0  0  0  0  0  0  0  0  0  0  0  0  0  0  0  0  0  0  0  0\n",
      "   0]\n",
      " [ 0  0 33  0  0  0  0  0  0  0  0  0  0  0  0  0  0  0  0  0  0  0  0  0\n",
      "   0]\n",
      " [ 0  0  0  2  0  0  0  0  0  0  0  0  0  0  0  0  0  0  0  0  0  0  0  0\n",
      "   0]\n",
      " [ 0  1  0  0  3  0  0  0  0  0  0  0  0  0  0  0  0  0  0  0  0  0  0  0\n",
      "   0]\n",
      " [ 0  0  0  0  0  6  0  0  0  0  0  0  0  0  0  0  0  0  0  0  0  0  0  0\n",
      "   0]\n",
      " [ 0  0  0  0  0  0  1  0  0  0  0  0  0  0  0  0  0  0  0  0  0  0  0  0\n",
      "   0]\n",
      " [ 0  0  0  0  0  0  0  1  0  0  0  0  0  0  0  0  0  0  0  0  0  0  0  0\n",
      "   0]\n",
      " [ 0  0  0  0  0  0  0  0  5  0  0  0  0  0  0  0  0  0  0  0  0  0  0  0\n",
      "   0]\n",
      " [ 0  0  0  0  0  0  0  0  0  1  0  0  0  0  0  0  0  0  0  0  0  0  0  0\n",
      "   0]\n",
      " [ 0  0  1  0  0  0  0  0  0  0  0  0  0  0  0  0  0  0  0  0  0  0  0  0\n",
      "   0]\n",
      " [ 0  0  0  0  0  0  0  0  0  0  0  1  0  0  0  0  0  0  0  0  0  0  0  0\n",
      "   0]\n",
      " [ 0  0  0  0  0  0  0  0  0  0  0  0  1  0  0  0  0  0  0  0  0  0  0  0\n",
      "   0]\n",
      " [ 0  0  0  0  0  0  0  0  0  0  0  0  0  1  0  0  0  0  0  0  0  0  0  0\n",
      "   0]\n",
      " [ 0  0  0  0  0  0  0  0  0  0  0  0  0  0  8  0  0  0  0  0  0  0  0  0\n",
      "   0]\n",
      " [ 0  0  0  0  0  0  0  0  0  0  0  0  0  0  0  3  0  0  0  0  0  0  0  0\n",
      "   0]\n",
      " [ 0  0  0  0  0  0  0  0  0  0  0  0  0  0  0  0  9  0  0  0  0  0  0  0\n",
      "   0]\n",
      " [ 0  0  0  0  0  0  0  0  0  0  0  0  0  0  0  0  0  1  0  0  0  0  0  0\n",
      "   0]\n",
      " [ 0  0  0  0  0  0  0  0  0  0  0  0  0  0  0  0  0  0  4  0  0  0  0  0\n",
      "   0]\n",
      " [ 0  0  0  0  0  0  0  0  0  0  0  0  0  0  0  0  0  0  0  2  0  0  0  0\n",
      "   0]\n",
      " [ 0  0  0  0  0  0  0  0  0  0  0  0  0  0  0  0  0  0  0  0  1  0  0  0\n",
      "   0]\n",
      " [ 0  0  0  0  0  0  0  0  0  0  0  0  0  0  0  0  0  0  0  0  0  3  0  0\n",
      "   0]\n",
      " [ 0  0  0  0  0  0  0  0  0  0  0  0  0  0  0  0  0  0  0  0  0  0  2  0\n",
      "   0]\n",
      " [ 0  0  0  0  0  0  0  0  0  0  0  0  0  0  0  0  0  0  0  0  0  0  0  5\n",
      "   0]\n",
      " [ 0  0  0  0  0  0  0  0  0  0  0  0  0  0  0  0  0  0  0  0  0  0  0  0\n",
      "   6]]\n"
     ]
    },
    {
     "name": "stderr",
     "output_type": "stream",
     "text": [
      "c:\\Users\\ducva\\AppData\\Local\\Programs\\Python\\Python311\\Lib\\site-packages\\sklearn\\metrics\\_classification.py:1469: UndefinedMetricWarning: Precision and F-score are ill-defined and being set to 0.0 in labels with no predicted samples. Use `zero_division` parameter to control this behavior.\n",
      "  _warn_prf(average, modifier, msg_start, len(result))\n",
      "c:\\Users\\ducva\\AppData\\Local\\Programs\\Python\\Python311\\Lib\\site-packages\\sklearn\\metrics\\_classification.py:1469: UndefinedMetricWarning: Recall and F-score are ill-defined and being set to 0.0 in labels with no true samples. Use `zero_division` parameter to control this behavior.\n",
      "  _warn_prf(average, modifier, msg_start, len(result))\n",
      "c:\\Users\\ducva\\AppData\\Local\\Programs\\Python\\Python311\\Lib\\site-packages\\sklearn\\metrics\\_classification.py:1469: UndefinedMetricWarning: Precision and F-score are ill-defined and being set to 0.0 in labels with no predicted samples. Use `zero_division` parameter to control this behavior.\n",
      "  _warn_prf(average, modifier, msg_start, len(result))\n",
      "c:\\Users\\ducva\\AppData\\Local\\Programs\\Python\\Python311\\Lib\\site-packages\\sklearn\\metrics\\_classification.py:1469: UndefinedMetricWarning: Recall and F-score are ill-defined and being set to 0.0 in labels with no true samples. Use `zero_division` parameter to control this behavior.\n",
      "  _warn_prf(average, modifier, msg_start, len(result))\n",
      "c:\\Users\\ducva\\AppData\\Local\\Programs\\Python\\Python311\\Lib\\site-packages\\sklearn\\metrics\\_classification.py:1469: UndefinedMetricWarning: Precision and F-score are ill-defined and being set to 0.0 in labels with no predicted samples. Use `zero_division` parameter to control this behavior.\n",
      "  _warn_prf(average, modifier, msg_start, len(result))\n",
      "c:\\Users\\ducva\\AppData\\Local\\Programs\\Python\\Python311\\Lib\\site-packages\\sklearn\\metrics\\_classification.py:1469: UndefinedMetricWarning: Recall and F-score are ill-defined and being set to 0.0 in labels with no true samples. Use `zero_division` parameter to control this behavior.\n",
      "  _warn_prf(average, modifier, msg_start, len(result))\n"
     ]
    }
   ],
   "source": [
    "from sklearn.tree import DecisionTreeClassifier\n",
    "from sklearn.metrics import accuracy_score, classification_report, confusion_matrix\n",
    "dt = DecisionTreeClassifier()\n",
    "dt.fit(X_train, y_train)\n",
    "y_dt_pred = dt.predict(X_test)\n",
    "\n",
    "dt_accuracy = accuracy_score(y_test, y_dt_pred)\n",
    "print('Độ chính xác của Decision Tree: {:.4f} %'.format(dt_accuracy * 100))\n",
    "\n",
    "dt_classification_report = classification_report(y_test, y_dt_pred)\n",
    "print('Báo cáo phân loại của Decision Tree:\\n', dt_classification_report)\n",
    "\n",
    "dt_confusion_matrix = confusion_matrix(y_test, y_dt_pred)\n",
    "print('Ma trận nhầm lẫn của Decision Tree:\\n', dt_confusion_matrix)\n"
   ]
  },
  {
   "cell_type": "code",
   "execution_count": 16,
   "id": "ae2e8d59",
   "metadata": {},
   "outputs": [
    {
     "name": "stdout",
     "output_type": "stream",
     "text": [
      "Độ chính xác của SVM: 97.5309 %\n",
      "Báo cáo phân loại của SVM:\n",
      "                     precision    recall  f1-score   support\n",
      "\n",
      "          covid 19       1.00      1.00      1.00        61\n",
      "    căng thẳng cơ        0.00      0.00      0.00         0\n",
      "    sốt xuất huyết       0.92      1.00      0.96        33\n",
      "        căng thẳng       1.00      1.00      1.00         2\n",
      "     căng thẳng cơ       1.00      0.75      0.86         4\n",
      "          cảm lạnh       1.00      1.00      1.00         6\n",
      "            dị ứng       1.00      1.00      1.00         1\n",
      "      huyết áp cao       1.00      1.00      1.00         1\n",
      "nhiễm khuẩn dạ dày       1.00      1.00      1.00         5\n",
      "          say nắng       1.00      1.00      1.00         1\n",
      "          suy thận       0.00      0.00      0.00         1\n",
      "    sốt xuất huyết       1.00      1.00      1.00         1\n",
      "       viêm amidan       1.00      1.00      1.00         1\n",
      "   viêm bàng quang       1.00      1.00      1.00         1\n",
      "       viêm dạ dày       1.00      1.00      1.00         8\n",
      "         viêm họng       1.00      1.00      1.00         3\n",
      "         viêm khớp       1.00      1.00      1.00         9\n",
      "     viêm mũi họng       1.00      1.00      1.00         1\n",
      "          viêm mắt       1.00      1.00      1.00         4\n",
      "         viêm phổi       1.00      1.00      1.00         2\n",
      "     viêm tai giữa       1.00      1.00      1.00         1\n",
      "       đau nửa đầu       1.00      1.00      1.00         3\n",
      "           đau tim       0.00      0.00      0.00         2\n",
      "đau đầu căng thẳng       1.00      1.00      1.00         5\n",
      "đau đầu thống kinh       1.00      1.00      1.00         6\n",
      "\n",
      "          accuracy                           0.98       162\n",
      "         macro avg       0.88      0.87      0.87       162\n",
      "      weighted avg       0.96      0.98      0.97       162\n",
      "\n",
      "Ma trận nhầm lẫn của SVM:\n",
      " [[61  0  0  0  0  0  0  0  0  0  0  0  0  0  0  0  0  0  0  0  0  0  0  0\n",
      "   0]\n",
      " [ 0  0  0  0  0  0  0  0  0  0  0  0  0  0  0  0  0  0  0  0  0  0  0  0\n",
      "   0]\n",
      " [ 0  0 33  0  0  0  0  0  0  0  0  0  0  0  0  0  0  0  0  0  0  0  0  0\n",
      "   0]\n",
      " [ 0  0  0  2  0  0  0  0  0  0  0  0  0  0  0  0  0  0  0  0  0  0  0  0\n",
      "   0]\n",
      " [ 0  1  0  0  3  0  0  0  0  0  0  0  0  0  0  0  0  0  0  0  0  0  0  0\n",
      "   0]\n",
      " [ 0  0  0  0  0  6  0  0  0  0  0  0  0  0  0  0  0  0  0  0  0  0  0  0\n",
      "   0]\n",
      " [ 0  0  0  0  0  0  1  0  0  0  0  0  0  0  0  0  0  0  0  0  0  0  0  0\n",
      "   0]\n",
      " [ 0  0  0  0  0  0  0  1  0  0  0  0  0  0  0  0  0  0  0  0  0  0  0  0\n",
      "   0]\n",
      " [ 0  0  0  0  0  0  0  0  5  0  0  0  0  0  0  0  0  0  0  0  0  0  0  0\n",
      "   0]\n",
      " [ 0  0  0  0  0  0  0  0  0  1  0  0  0  0  0  0  0  0  0  0  0  0  0  0\n",
      "   0]\n",
      " [ 0  0  1  0  0  0  0  0  0  0  0  0  0  0  0  0  0  0  0  0  0  0  0  0\n",
      "   0]\n",
      " [ 0  0  0  0  0  0  0  0  0  0  0  1  0  0  0  0  0  0  0  0  0  0  0  0\n",
      "   0]\n",
      " [ 0  0  0  0  0  0  0  0  0  0  0  0  1  0  0  0  0  0  0  0  0  0  0  0\n",
      "   0]\n",
      " [ 0  0  0  0  0  0  0  0  0  0  0  0  0  1  0  0  0  0  0  0  0  0  0  0\n",
      "   0]\n",
      " [ 0  0  0  0  0  0  0  0  0  0  0  0  0  0  8  0  0  0  0  0  0  0  0  0\n",
      "   0]\n",
      " [ 0  0  0  0  0  0  0  0  0  0  0  0  0  0  0  3  0  0  0  0  0  0  0  0\n",
      "   0]\n",
      " [ 0  0  0  0  0  0  0  0  0  0  0  0  0  0  0  0  9  0  0  0  0  0  0  0\n",
      "   0]\n",
      " [ 0  0  0  0  0  0  0  0  0  0  0  0  0  0  0  0  0  1  0  0  0  0  0  0\n",
      "   0]\n",
      " [ 0  0  0  0  0  0  0  0  0  0  0  0  0  0  0  0  0  0  4  0  0  0  0  0\n",
      "   0]\n",
      " [ 0  0  0  0  0  0  0  0  0  0  0  0  0  0  0  0  0  0  0  2  0  0  0  0\n",
      "   0]\n",
      " [ 0  0  0  0  0  0  0  0  0  0  0  0  0  0  0  0  0  0  0  0  1  0  0  0\n",
      "   0]\n",
      " [ 0  0  0  0  0  0  0  0  0  0  0  0  0  0  0  0  0  0  0  0  0  3  0  0\n",
      "   0]\n",
      " [ 0  0  2  0  0  0  0  0  0  0  0  0  0  0  0  0  0  0  0  0  0  0  0  0\n",
      "   0]\n",
      " [ 0  0  0  0  0  0  0  0  0  0  0  0  0  0  0  0  0  0  0  0  0  0  0  5\n",
      "   0]\n",
      " [ 0  0  0  0  0  0  0  0  0  0  0  0  0  0  0  0  0  0  0  0  0  0  0  0\n",
      "   6]]\n"
     ]
    },
    {
     "name": "stderr",
     "output_type": "stream",
     "text": [
      "c:\\Users\\ducva\\AppData\\Local\\Programs\\Python\\Python311\\Lib\\site-packages\\sklearn\\metrics\\_classification.py:1469: UndefinedMetricWarning: Precision and F-score are ill-defined and being set to 0.0 in labels with no predicted samples. Use `zero_division` parameter to control this behavior.\n",
      "  _warn_prf(average, modifier, msg_start, len(result))\n",
      "c:\\Users\\ducva\\AppData\\Local\\Programs\\Python\\Python311\\Lib\\site-packages\\sklearn\\metrics\\_classification.py:1469: UndefinedMetricWarning: Recall and F-score are ill-defined and being set to 0.0 in labels with no true samples. Use `zero_division` parameter to control this behavior.\n",
      "  _warn_prf(average, modifier, msg_start, len(result))\n",
      "c:\\Users\\ducva\\AppData\\Local\\Programs\\Python\\Python311\\Lib\\site-packages\\sklearn\\metrics\\_classification.py:1469: UndefinedMetricWarning: Precision and F-score are ill-defined and being set to 0.0 in labels with no predicted samples. Use `zero_division` parameter to control this behavior.\n",
      "  _warn_prf(average, modifier, msg_start, len(result))\n",
      "c:\\Users\\ducva\\AppData\\Local\\Programs\\Python\\Python311\\Lib\\site-packages\\sklearn\\metrics\\_classification.py:1469: UndefinedMetricWarning: Recall and F-score are ill-defined and being set to 0.0 in labels with no true samples. Use `zero_division` parameter to control this behavior.\n",
      "  _warn_prf(average, modifier, msg_start, len(result))\n",
      "c:\\Users\\ducva\\AppData\\Local\\Programs\\Python\\Python311\\Lib\\site-packages\\sklearn\\metrics\\_classification.py:1469: UndefinedMetricWarning: Precision and F-score are ill-defined and being set to 0.0 in labels with no predicted samples. Use `zero_division` parameter to control this behavior.\n",
      "  _warn_prf(average, modifier, msg_start, len(result))\n",
      "c:\\Users\\ducva\\AppData\\Local\\Programs\\Python\\Python311\\Lib\\site-packages\\sklearn\\metrics\\_classification.py:1469: UndefinedMetricWarning: Recall and F-score are ill-defined and being set to 0.0 in labels with no true samples. Use `zero_division` parameter to control this behavior.\n",
      "  _warn_prf(average, modifier, msg_start, len(result))\n"
     ]
    }
   ],
   "source": [
    "from sklearn.svm import SVC\n",
    "\n",
    "svm = SVC()\n",
    "svm.fit(X_train, y_train)\n",
    "y_svm_pred = svm.predict(X_test)\n",
    "\n",
    "svm_accuracy = accuracy_score(y_test, y_svm_pred)\n",
    "print('Độ chính xác của SVM: {:.4f} %'.format(svm_accuracy * 100))\n",
    "\n",
    "svm_classification_report = classification_report(y_test, y_svm_pred)\n",
    "print('Báo cáo phân loại của SVM:\\n', svm_classification_report)\n",
    "\n",
    "svm_confusion_matrix = confusion_matrix(y_test, y_svm_pred)\n",
    "print('Ma trận nhầm lẫn của SVM:\\n', svm_confusion_matrix)\n"
   ]
  },
  {
   "cell_type": "code",
   "execution_count": 17,
   "id": "c692636f",
   "metadata": {},
   "outputs": [
    {
     "name": "stdout",
     "output_type": "stream",
     "text": [
      "Độ chính xác của Random Forest: 98.1481 %\n",
      "Báo cáo phân loại của Random Forest:\n",
      "                     precision    recall  f1-score   support\n",
      "\n",
      "          covid 19       0.97      1.00      0.98        61\n",
      "    căng thẳng cơ        0.00      0.00      0.00         0\n",
      "    sốt xuất huyết       1.00      0.97      0.98        33\n",
      "        căng thẳng       1.00      1.00      1.00         2\n",
      "     căng thẳng cơ       1.00      0.75      0.86         4\n",
      "          cảm lạnh       1.00      1.00      1.00         6\n",
      "            dị ứng       1.00      1.00      1.00         1\n",
      "      huyết áp cao       1.00      1.00      1.00         1\n",
      "nhiễm khuẩn dạ dày       1.00      1.00      1.00         5\n",
      "          say nắng       1.00      1.00      1.00         1\n",
      "          suy thận       0.00      0.00      0.00         1\n",
      "    sốt xuất huyết       1.00      1.00      1.00         1\n",
      "       viêm amidan       1.00      1.00      1.00         1\n",
      "   viêm bàng quang       1.00      1.00      1.00         1\n",
      "       viêm dạ dày       1.00      1.00      1.00         8\n",
      "         viêm họng       1.00      1.00      1.00         3\n",
      "         viêm khớp       1.00      1.00      1.00         9\n",
      "     viêm mũi họng       1.00      1.00      1.00         1\n",
      "          viêm mắt       1.00      1.00      1.00         4\n",
      "         viêm phổi       1.00      1.00      1.00         2\n",
      "     viêm tai giữa       1.00      1.00      1.00         1\n",
      "       đau nửa đầu       1.00      1.00      1.00         3\n",
      "           đau tim       1.00      1.00      1.00         2\n",
      "đau đầu căng thẳng       1.00      1.00      1.00         5\n",
      "đau đầu thống kinh       1.00      1.00      1.00         6\n",
      "\n",
      "          accuracy                           0.98       162\n",
      "         macro avg       0.92      0.91      0.91       162\n",
      "      weighted avg       0.98      0.98      0.98       162\n",
      "\n",
      "Ma trận nhầm lẫn của Random Forest:\n",
      " [[61  0  0  0  0  0  0  0  0  0  0  0  0  0  0  0  0  0  0  0  0  0  0  0\n",
      "   0]\n",
      " [ 0  0  0  0  0  0  0  0  0  0  0  0  0  0  0  0  0  0  0  0  0  0  0  0\n",
      "   0]\n",
      " [ 1  0 32  0  0  0  0  0  0  0  0  0  0  0  0  0  0  0  0  0  0  0  0  0\n",
      "   0]\n",
      " [ 0  0  0  2  0  0  0  0  0  0  0  0  0  0  0  0  0  0  0  0  0  0  0  0\n",
      "   0]\n",
      " [ 0  1  0  0  3  0  0  0  0  0  0  0  0  0  0  0  0  0  0  0  0  0  0  0\n",
      "   0]\n",
      " [ 0  0  0  0  0  6  0  0  0  0  0  0  0  0  0  0  0  0  0  0  0  0  0  0\n",
      "   0]\n",
      " [ 0  0  0  0  0  0  1  0  0  0  0  0  0  0  0  0  0  0  0  0  0  0  0  0\n",
      "   0]\n",
      " [ 0  0  0  0  0  0  0  1  0  0  0  0  0  0  0  0  0  0  0  0  0  0  0  0\n",
      "   0]\n",
      " [ 0  0  0  0  0  0  0  0  5  0  0  0  0  0  0  0  0  0  0  0  0  0  0  0\n",
      "   0]\n",
      " [ 0  0  0  0  0  0  0  0  0  1  0  0  0  0  0  0  0  0  0  0  0  0  0  0\n",
      "   0]\n",
      " [ 1  0  0  0  0  0  0  0  0  0  0  0  0  0  0  0  0  0  0  0  0  0  0  0\n",
      "   0]\n",
      " [ 0  0  0  0  0  0  0  0  0  0  0  1  0  0  0  0  0  0  0  0  0  0  0  0\n",
      "   0]\n",
      " [ 0  0  0  0  0  0  0  0  0  0  0  0  1  0  0  0  0  0  0  0  0  0  0  0\n",
      "   0]\n",
      " [ 0  0  0  0  0  0  0  0  0  0  0  0  0  1  0  0  0  0  0  0  0  0  0  0\n",
      "   0]\n",
      " [ 0  0  0  0  0  0  0  0  0  0  0  0  0  0  8  0  0  0  0  0  0  0  0  0\n",
      "   0]\n",
      " [ 0  0  0  0  0  0  0  0  0  0  0  0  0  0  0  3  0  0  0  0  0  0  0  0\n",
      "   0]\n",
      " [ 0  0  0  0  0  0  0  0  0  0  0  0  0  0  0  0  9  0  0  0  0  0  0  0\n",
      "   0]\n",
      " [ 0  0  0  0  0  0  0  0  0  0  0  0  0  0  0  0  0  1  0  0  0  0  0  0\n",
      "   0]\n",
      " [ 0  0  0  0  0  0  0  0  0  0  0  0  0  0  0  0  0  0  4  0  0  0  0  0\n",
      "   0]\n",
      " [ 0  0  0  0  0  0  0  0  0  0  0  0  0  0  0  0  0  0  0  2  0  0  0  0\n",
      "   0]\n",
      " [ 0  0  0  0  0  0  0  0  0  0  0  0  0  0  0  0  0  0  0  0  1  0  0  0\n",
      "   0]\n",
      " [ 0  0  0  0  0  0  0  0  0  0  0  0  0  0  0  0  0  0  0  0  0  3  0  0\n",
      "   0]\n",
      " [ 0  0  0  0  0  0  0  0  0  0  0  0  0  0  0  0  0  0  0  0  0  0  2  0\n",
      "   0]\n",
      " [ 0  0  0  0  0  0  0  0  0  0  0  0  0  0  0  0  0  0  0  0  0  0  0  5\n",
      "   0]\n",
      " [ 0  0  0  0  0  0  0  0  0  0  0  0  0  0  0  0  0  0  0  0  0  0  0  0\n",
      "   6]]\n"
     ]
    },
    {
     "name": "stderr",
     "output_type": "stream",
     "text": [
      "c:\\Users\\ducva\\AppData\\Local\\Programs\\Python\\Python311\\Lib\\site-packages\\sklearn\\metrics\\_classification.py:1469: UndefinedMetricWarning: Precision and F-score are ill-defined and being set to 0.0 in labels with no predicted samples. Use `zero_division` parameter to control this behavior.\n",
      "  _warn_prf(average, modifier, msg_start, len(result))\n",
      "c:\\Users\\ducva\\AppData\\Local\\Programs\\Python\\Python311\\Lib\\site-packages\\sklearn\\metrics\\_classification.py:1469: UndefinedMetricWarning: Recall and F-score are ill-defined and being set to 0.0 in labels with no true samples. Use `zero_division` parameter to control this behavior.\n",
      "  _warn_prf(average, modifier, msg_start, len(result))\n",
      "c:\\Users\\ducva\\AppData\\Local\\Programs\\Python\\Python311\\Lib\\site-packages\\sklearn\\metrics\\_classification.py:1469: UndefinedMetricWarning: Precision and F-score are ill-defined and being set to 0.0 in labels with no predicted samples. Use `zero_division` parameter to control this behavior.\n",
      "  _warn_prf(average, modifier, msg_start, len(result))\n",
      "c:\\Users\\ducva\\AppData\\Local\\Programs\\Python\\Python311\\Lib\\site-packages\\sklearn\\metrics\\_classification.py:1469: UndefinedMetricWarning: Recall and F-score are ill-defined and being set to 0.0 in labels with no true samples. Use `zero_division` parameter to control this behavior.\n",
      "  _warn_prf(average, modifier, msg_start, len(result))\n",
      "c:\\Users\\ducva\\AppData\\Local\\Programs\\Python\\Python311\\Lib\\site-packages\\sklearn\\metrics\\_classification.py:1469: UndefinedMetricWarning: Precision and F-score are ill-defined and being set to 0.0 in labels with no predicted samples. Use `zero_division` parameter to control this behavior.\n",
      "  _warn_prf(average, modifier, msg_start, len(result))\n",
      "c:\\Users\\ducva\\AppData\\Local\\Programs\\Python\\Python311\\Lib\\site-packages\\sklearn\\metrics\\_classification.py:1469: UndefinedMetricWarning: Recall and F-score are ill-defined and being set to 0.0 in labels with no true samples. Use `zero_division` parameter to control this behavior.\n",
      "  _warn_prf(average, modifier, msg_start, len(result))\n"
     ]
    }
   ],
   "source": [
    "from sklearn.ensemble import RandomForestClassifier\n",
    "from sklearn.metrics import accuracy_score, classification_report, confusion_matrix\n",
    "rf = RandomForestClassifier()\n",
    "rf.fit(X_train, y_train)\n",
    "y_rf_pred = rf.predict(X_test)\n",
    "\n",
    "rf_accuracy = accuracy_score(y_test, y_rf_pred)\n",
    "print('Độ chính xác của Random Forest: {:.4f} %'.format(rf_accuracy * 100))\n",
    "\n",
    "rf_classification_report = classification_report(y_test, y_rf_pred)\n",
    "print('Báo cáo phân loại của Random Forest:\\n', rf_classification_report)\n",
    "\n",
    "rf_confusion_matrix = confusion_matrix(y_test, y_rf_pred)\n",
    "print('Ma trận nhầm lẫn của Random Forest:\\n', rf_confusion_matrix)\n"
   ]
  }
 ],
 "metadata": {
  "kernelspec": {
   "display_name": "Python 3 (ipykernel)",
   "language": "python",
   "name": "python3"
  },
  "language_info": {
   "codemirror_mode": {
    "name": "ipython",
    "version": 3
   },
   "file_extension": ".py",
   "mimetype": "text/x-python",
   "name": "python",
   "nbconvert_exporter": "python",
   "pygments_lexer": "ipython3",
   "version": "3.11.5"
  }
 },
 "nbformat": 4,
 "nbformat_minor": 5
}
